{
 "cells": [
  {
   "cell_type": "markdown",
   "metadata": {},
   "source": [
    "# ETL Pipeline: Extraction (part 3)\n",
    "\n",
    "In this notebook, we will work through extracting data from SQL databases. Pandas offers different ways to open a SQL database or to run a SQL query against a database, depending on the type of SQL database you are working with: the [sqlite3 library](https://www.sqlite.org/about.html) or the [sqlalchemy library](https://www.sqlalchemy.org/).\n",
    "\n",
    "### Pandas and SQLite3\n",
    "\n",
    "We can use SQLite3 library with pandas when working with a different type of database such as MySQL or PostgreSQL.\n",
    "Instructions on how to do this can be found inthis [link](http://docs.sqlalchemy.org/en/latest/core/engines.html)"
   ]
  },
  {
   "cell_type": "code",
   "execution_count": null,
   "metadata": {},
   "outputs": [],
   "source": [
    "import sqlite3\n",
    "import pandas as pd\n",
    "\n",
    "# connect to the database\n",
    "conn = sqlite3.connect('population_data.db')\n",
    "\n",
    "# run a query\n",
    "pd.read_sql('SELECT * FROM population_data', conn)"
   ]
  },
  {
   "cell_type": "code",
   "execution_count": null,
   "metadata": {},
   "outputs": [],
   "source": [
    "pd.read_sql('SELECT \"Country_Name\", \"Country_Code\", \"1960\" FROM population_data', conn)"
   ]
  },
  {
   "cell_type": "markdown",
   "metadata": {},
   "source": [
    "### Pandas and SQLAlchemy\n",
    "\n",
    "We can use SQLAlchemy library with pandas when working with a different type of database such as MySQL or PostgreSQL.\n",
    "Instructions on how to do this can be found inthis [link](http://docs.sqlalchemy.org/en/latest/core/engines.html)"
   ]
  },
  {
   "cell_type": "code",
   "execution_count": null,
   "metadata": {},
   "outputs": [],
   "source": [
    "# to find the correct file path, use the python os library:\n",
    "import os\n",
    "print(os.getcwd())"
   ]
  },
  {
   "cell_type": "code",
   "execution_count": null,
   "metadata": {},
   "outputs": [],
   "source": [
    "from sqlalchemy import create_engine\n",
    "\n",
    "\"\"\" Below we will create a database engine using the file path printed above\"\"\"\n",
    "\n",
    "engine = create_engine('sqlite:////f/population_data.db')"
   ]
  },
  {
   "cell_type": "code",
   "execution_count": null,
   "metadata": {},
   "outputs": [],
   "source": [
    "pd.read_sql(\"SELECT * FROM population_data\", engine).head(2)"
   ]
  },
  {
   "cell_type": "markdown",
   "metadata": {},
   "source": [
    "#### Trying out some sql quries"
   ]
  },
  {
   "cell_type": "code",
   "execution_count": null,
   "metadata": {},
   "outputs": [],
   "source": [
    "#Write a query that finds the change in population in 1960 to 1962 and the change in Aruba\n",
    "pd.read_sql('SELECT \"1960\", \"1961\", \"1961\" - \"1960\" AS \"Change\" FROM population_data WHERE Country_Name = \"Aruba\"', engine)"
   ]
  },
  {
   "cell_type": "code",
   "execution_count": null,
   "metadata": {},
   "outputs": [],
   "source": [
    "#Write a query that finds the population of Belgium and also Luxembourg in 1975.\n",
    "pd.read_sql('SELECT \"Country_Name\", \"1975\" FROM population_data WHERE Country_Name = \"Belgium\" OR Country_Name = \"Luxembourg\"', engine)"
   ]
  },
  {
   "cell_type": "code",
   "execution_count": null,
   "metadata": {},
   "outputs": [],
   "source": []
  }
 ],
 "metadata": {
  "kernelspec": {
   "display_name": "Python 3",
   "language": "python",
   "name": "python3"
  },
  "language_info": {
   "codemirror_mode": {
    "name": "ipython",
    "version": 3
   },
   "file_extension": ".py",
   "mimetype": "text/x-python",
   "name": "python",
   "nbconvert_exporter": "python",
   "pygments_lexer": "ipython3",
   "version": "3.7.7"
  }
 },
 "nbformat": 4,
 "nbformat_minor": 4
}
